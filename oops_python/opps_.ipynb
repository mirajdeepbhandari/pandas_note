{
 "cells": [
  {
   "cell_type": "markdown",
   "id": "6df91fe8",
   "metadata": {},
   "source": [
    "# oops"
   ]
  },
  {
   "cell_type": "code",
   "execution_count": 1,
   "id": "1c7055c7",
   "metadata": {},
   "outputs": [],
   "source": [
    "# class <class_name>:\n",
    "#     <methods>\n",
    "    \n",
    "#     obj = <class_name>()\n"
   ]
  },
  {
   "cell_type": "code",
   "execution_count": 2,
   "id": "207084ff",
   "metadata": {},
   "outputs": [
    {
     "name": "stdout",
     "output_type": "stream",
     "text": [
      "hello world\n"
     ]
    }
   ],
   "source": [
    "class Hello:\n",
    "    @staticmethod\n",
    "    def hello():\n",
    "        print(\"hello world\")\n",
    "\n",
    "# obj = Hello()\n",
    "# obj.hello()\n",
    "Hello.hello() # static method can be called throug the class name static method is not for object \n"
   ]
  },
  {
   "cell_type": "code",
   "execution_count": 3,
   "id": "84d55f74",
   "metadata": {},
   "outputs": [
    {
     "name": "stdout",
     "output_type": "stream",
     "text": [
      "hello world\n"
     ]
    }
   ],
   "source": [
    "class Hello:\n",
    "    \n",
    "    def hello(self): #funtion ko first parameter hunu prxa like this keyword in java .self is not compulsory we can name any\n",
    "        print(\"hello world\")\n",
    "\n",
    "obj=Hello()\n",
    "obj.hello()\n"
   ]
  },
  {
   "cell_type": "code",
   "execution_count": 4,
   "id": "afaf8fac",
   "metadata": {},
   "outputs": [
    {
     "name": "stdout",
     "output_type": "stream",
     "text": [
      "15000\n",
      "5000\n"
     ]
    }
   ],
   "source": [
    "class Cal:\n",
    "    \n",
    "    def volume(self,l,b,h):\n",
    "        vol=l*b*h\n",
    "        print(vol)\n",
    "        \n",
    "    def area(self,l,b):\n",
    "        a=l*b\n",
    "        print(a)\n",
    "        \n",
    "        \n",
    "        \n",
    "obj = Cal()\n",
    "obj.volume(100,50,3)\n",
    "obj.area(100,50)\n",
    "\n",
    "# this is not in practical since l and b is repetedly used in volume and area and  l and b are functional scope not class"
   ]
  },
  {
   "cell_type": "code",
   "execution_count": 5,
   "id": "9d0d4c7a",
   "metadata": {},
   "outputs": [
    {
     "name": "stdout",
     "output_type": "stream",
     "text": [
      "enter length1\n",
      "enter breadth2\n",
      "enter height3\n",
      "6\n",
      "2\n"
     ]
    }
   ],
   "source": [
    "class Cal:\n",
    "    \n",
    "    def __init__(self,l,b,h):\n",
    "        self.l_=l\n",
    "        self.b_=b\n",
    "        self.h_=h\n",
    "        \n",
    "    \n",
    "    def volume(self): # self is like this keyword in java it used to call and use  instance variable\n",
    "        vol=self.l_*self.b_*self.h_\n",
    "        print(vol)\n",
    "        \n",
    "    def area(self):\n",
    "        a=self.l_*self.b_\n",
    "        print(a)\n",
    "        \n",
    "        \n",
    "l1=int(input(\"enter length\"))   \n",
    "b1=int(input(\"enter breadth\"))  \n",
    "h1=int(input(\"enter height\"))   \n",
    "obj = Cal(l1,b1,h1)\n",
    "obj.volume()\n",
    "obj.area()\n"
   ]
  },
  {
   "cell_type": "code",
   "execution_count": 6,
   "id": "c8108575",
   "metadata": {},
   "outputs": [
    {
     "name": "stdout",
     "output_type": "stream",
     "text": [
      "enter length1\n",
      "enter breadth2\n",
      "enter height3\n",
      "6\n",
      "2\n"
     ]
    },
    {
     "data": {
      "text/plain": [
       "'apil'"
      ]
     },
     "execution_count": 6,
     "metadata": {},
     "output_type": "execute_result"
    }
   ],
   "source": [
    "#making two classes and making objects respectively for them\n",
    "\n",
    "class Volume:\n",
    "    \n",
    "    def __init__(self,l,b,h):\n",
    "        self.l_=l\n",
    "        self.b_=b\n",
    "        self.h_=h\n",
    "        \n",
    "    \n",
    "    def volume(self): # self is like this keyword in java it used to call and use  instance variable\n",
    "        vol=self.l_*self.b_*self.h_\n",
    "        print(vol)\n",
    "        \n",
    "class Area:\n",
    "    \n",
    "     def __init__(self,l,b):\n",
    "        self.l_=l\n",
    "        self.b_=b\n",
    "        \n",
    "     \n",
    "     def area(self):\n",
    "        a=self.l_*self.b_\n",
    "        print(a)\n",
    "    \n",
    "     @staticmethod # static method cant access instance variable so no self keyword\n",
    "     def a(): # class only contains method and constructor if we want varibale we can acces like this instead of staric we can \n",
    "              #use self as parameter\n",
    "            name=\"apil\"\n",
    "            return name\n",
    "        \n",
    "        \n",
    "l1=int(input(\"enter length\"))   \n",
    "b1=int(input(\"enter breadth\"))  \n",
    "h1=int(input(\"enter height\"))  \n",
    "\n",
    "volume_obj = Volume(l1,b1,h1)\n",
    "area_obj = Area(l1,b1)\n",
    "\n",
    "volume_obj.volume()\n",
    "area_obj.area()\n",
    "area_obj.a()\n",
    "\n"
   ]
  },
  {
   "cell_type": "markdown",
   "id": "4b4ce2f8",
   "metadata": {},
   "source": [
    "# Inheriance\n"
   ]
  },
  {
   "cell_type": "code",
   "execution_count": 7,
   "id": "e9126a78",
   "metadata": {},
   "outputs": [],
   "source": [
    "class A:\n",
    "    pass\n",
    "\n",
    "class B(A): # b class inherit class A\n",
    "    pass\n",
    "\n",
    "obj = B()"
   ]
  },
  {
   "cell_type": "code",
   "execution_count": 8,
   "id": "86248af0",
   "metadata": {},
   "outputs": [],
   "source": [
    "# class Data:\n",
    "    "
   ]
  },
  {
   "cell_type": "code",
   "execution_count": 9,
   "id": "d15306c9",
   "metadata": {},
   "outputs": [
    {
     "name": "stdout",
     "output_type": "stream",
     "text": [
      "Enter the name of animal: lion\n",
      "Enter the name color of animal: red\n",
      "lion of red runs\n"
     ]
    }
   ],
   "source": [
    "# Inheritance in python\n",
    "\n",
    "class Animal:\n",
    "    \n",
    "    def __init__(self):\n",
    "        self.name=input(\"Enter the name of animal: \")\n",
    "        self.color=input(\"Enter the name color of animal: \")\n",
    "        \n",
    "    def run(self):\n",
    "        print(f\"{self.name} of {self.color} runs\")\n",
    "        \n",
    "class Lion(Animal):\n",
    "    pass\n",
    "\n",
    "# making object for child class\n",
    "\n",
    "lionObj= Lion() \n",
    "''' \n",
    "lionObj object jaba banyo program ley lion class ko constructor khojyo, as lion class ko constructor xaina yo parent class ko\n",
    "constructor ma janxa ani object initilize garza (lionObj bhitra instance variaible name ra color store hunxa)\n",
    "\n",
    "'''\n",
    "\n",
    "#calling parent class method\n",
    "lionObj.run()\n"
   ]
  },
  {
   "cell_type": "code",
   "execution_count": 10,
   "id": "d3b1c29e",
   "metadata": {},
   "outputs": [
    {
     "name": "stdout",
     "output_type": "stream",
     "text": [
      "Enter the no of seat vechile have: 3\n",
      "Enter the color of the vechile: yellow\n",
      "Enter the price of the vechile: 34432\n",
      "Enter the model of the vechile: audi334\n",
      "does car have insurance True/False: True\n",
      "Enter the vat amount: 244\n",
      "The car is audi334 having no of seats 3 of yellow color with price 34432 \n",
      "The Insurance is  Done\n",
      "The vat amount is 244\n"
     ]
    },
    {
     "data": {
      "text/plain": [
       "'\\nHami ley child class ko object banayem, child class ko object ma aba parameter pass garna parxa, child class band suru \\nma child class ko constructor ma janxa ani instance varibale\\nisinsurance ra vat amount ma value assign hunxa then parent class ko constructor call hunxa ani \\ntesma ma ne seats, colorr price,model ko value\\nassign vako xa instance variable ma tes paxi program back child class ko constructor ma aauxa ani\\nparent class ko method call vako xa\\n\\n'"
      ]
     },
     "execution_count": 10,
     "metadata": {},
     "output_type": "execute_result"
    }
   ],
   "source": [
    "class Vechile:\n",
    "    \n",
    "    def __init__(self,model,seats,color,price):\n",
    "        self.seats=seats\n",
    "        self.color=color\n",
    "        self.price=price\n",
    "        self.model=model\n",
    "    \n",
    "    \n",
    "    def info(self):\n",
    "        print(f\"The car is {self.model} having no of seats {self.seats} of {self.color} color with price {self.price} \")\n",
    "    \n",
    "class Car(Vechile):\n",
    "    \n",
    "    def __init__(self,isinsurance,vatamount,model,seats,color,price):\n",
    "        \n",
    "        self.isinsurance=isinsurance\n",
    "        \n",
    "        self.vatamount=vatamount\n",
    "        \n",
    "        Vechile.__init__(self,model,seats,color,price) #calling the parent constructor (java jasto hunna yo parent \n",
    "        #class ko constructor call sunu mai na vaye ne hunca)\n",
    "\n",
    "        #Displaying the car information part here\n",
    "        \n",
    "        super().info() #calling the parent info method\n",
    "        \n",
    "        if self.isinsurance:\n",
    "            print(f\"The Insurance is  Done\")\n",
    "            print(f\"The vat amount is {self.vatamount}\")\n",
    "        else:\n",
    "            print(f\"The Insurance is not Done\")\n",
    "            print(f\"The vat amount is {self.vatamount}\")\n",
    "\n",
    "        \n",
    "    \n",
    "    \n",
    "seat_=int(input(\"Enter the no of seat vechile have: \"))\n",
    "color_=input(\"Enter the color of the vechile: \")\n",
    "price_=int(input(\"Enter the price of the vechile: \"))\n",
    "model_=input(\"Enter the model of the vechile: \")\n",
    "isinsurance_=bool(input('does car have insurance True/False: '))\n",
    "vat_=int(input(\"Enter the vat amount: \"))\n",
    "\n",
    "audi_childobj=Car(isinsurance_,vat_,model_,seat_,color_,price_)\n",
    "\n",
    "'''\n",
    "Hami ley child class ko object banayem, child class ko object ma aba parameter pass garna parxa, child class band suru \n",
    "ma child class ko constructor ma janxa ani instance varibale\n",
    "isinsurance ra vat amount ma value assign hunxa then parent class ko constructor call hunxa ani \n",
    "tesma ma ne seats, colorr price,model ko value\n",
    "assign vako xa instance variable ma tes paxi program back child class ko constructor ma aauxa ani\n",
    "parent class ko method call vako xa\n",
    "\n",
    "'''    \n",
    "    \n"
   ]
  },
  {
   "cell_type": "code",
   "execution_count": 11,
   "id": "de8f714f",
   "metadata": {},
   "outputs": [],
   "source": [
    "#multilevel inheritance\n",
    "\n",
    "class A:\n",
    "    pass\n",
    "class B(A):\n",
    "    pass\n",
    "class C(B):\n",
    "    pass\n",
    "\n",
    "obj_c = C()"
   ]
  },
  {
   "cell_type": "code",
   "execution_count": 12,
   "id": "6e11a636",
   "metadata": {},
   "outputs": [],
   "source": [
    "# multiple inheritance\n",
    " \n",
    "class A:\n",
    "    pass\n",
    "class B:\n",
    "    pass\n",
    "\n",
    "class C(A,B):\n",
    "    pass\n",
    "\n",
    "obj =  C()"
   ]
  },
  {
   "cell_type": "code",
   "execution_count": 13,
   "id": "03bd2ace",
   "metadata": {},
   "outputs": [
    {
     "name": "stdout",
     "output_type": "stream",
     "text": [
      "Enter your name: miraj\n",
      "Enter your age: 34\n",
      "Enter your place: kalanki\n",
      "the Name is miraj\n",
      "the Age is 34\n",
      "the place is kalanki\n"
     ]
    }
   ],
   "source": [
    "# multilevel inheritance\n",
    "\n",
    "#object baneko part bata program analysis garne sab bhujinxa\n",
    "\n",
    "class Place:\n",
    "    \n",
    "    def __init__(self,place):\n",
    "        self.place=place # yo constructor ley place lai initilize garyo\n",
    "        print(\"the place is\",self.place)\n",
    "        \n",
    "class Age(Place):\n",
    "    \n",
    "     def __init__(self,age,place):\n",
    "            self.age=age # yo constructor ley age matra initilize gardiyo ani baki chai mathi ko\n",
    "                         #constructor lai pataidiyo initi garna\n",
    "            print(\"the Age is\",self.age)\n",
    "            Place.__init__(self,place)\n",
    "            \n",
    "            \n",
    "class Name(Age):\n",
    "    def __init__(self,name,age,place):\n",
    "        self.name=name # yo constructor ley name matra initilize gardiyo ani baki chai mathi ko\n",
    "                       #constructor lai pataidiyo initi garna\n",
    "        print(\"the Name is\",self.name)\n",
    "        Age.__init__(self,age,place)\n",
    "         \n",
    "            \n",
    "class Information(Name):\n",
    "    def __init__(self,name,age,place):\n",
    "        Name.__init__(self,name,age,place) # yo constructor ley mathi class ko constructor lAI initilize garna pathaidiyo\n",
    "        \n",
    "    \n",
    "n=input('Enter your name: ')\n",
    "a=int(input('Enter your age: '))\n",
    "p=input('Enter your place: ')\n",
    "          \n",
    "Info_obj=Information(n,a,p)"
   ]
  },
  {
   "cell_type": "code",
   "execution_count": 14,
   "id": "35a7c062",
   "metadata": {},
   "outputs": [
    {
     "name": "stdout",
     "output_type": "stream",
     "text": [
      "enter your name: miraj\n",
      "enter your address: kdkd\n",
      "enter your age: 234\n",
      "(parent class)the name is: miraj\n",
      "(parent class) the address is: kdkd\n",
      "(parent class) the age is: 234\n"
     ]
    }
   ],
   "source": [
    "#multiple inheritance\n",
    "\n",
    "class Age:\n",
    "    def __init__(self,age):\n",
    "        self.age=age\n",
    "\n",
    "\n",
    "class Address:\n",
    "    \n",
    "    def __init__(self,add):\n",
    "        self.add=add\n",
    "        \n",
    "        \n",
    "    def print_parent(self):\n",
    "        print(\"(parent class)the name is:\", self.name)\n",
    "        print(\"(parent class) the address is:\", self.add)# obj_child ma store vako instance variable aauni vho\n",
    "        print(\"(parent class) the age is:\", self.age)\n",
    "        \n",
    "class Info(Address,Age): \n",
    "    \n",
    "    def __init__(self,name,age,add):\n",
    "        self.name= name  \n",
    "        Address.__init__(self,add) \n",
    "        Age.__init__(self,age)\n",
    "\n",
    "   \n",
    "name=input(\"enter your name: \")\n",
    "add=input(\"enter your address: \") \n",
    "age=int(input(\"enter your age: \")) \n",
    "\n",
    "obj_child = Info(name,age,add)\n",
    "\n",
    "obj_child.print_parent() "
   ]
  },
  {
   "cell_type": "code",
   "execution_count": 1,
   "id": "4ef623bf",
   "metadata": {},
   "outputs": [
    {
     "name": "stdout",
     "output_type": "stream",
     "text": [
      "Enter your name: miraj\n",
      "Enter your age: 12\n",
      "miraj 12\n"
     ]
    }
   ],
   "source": [
    "# Encapsulation\n",
    "\n",
    "#private protected and public\n",
    "\n",
    "#public members\n",
    "class Info:\n",
    "\n",
    "    def __init__(self):\n",
    "        self.name=input(\"Enter your name: \")\n",
    "        self.age=int(input(\"Enter your age: \"))\n",
    "\n",
    "obj=Info()\n",
    "print(obj.name,obj.age)#getting public members\n"
   ]
  },
  {
   "cell_type": "code",
   "execution_count": 2,
   "id": "a47ac7c3",
   "metadata": {},
   "outputs": [
    {
     "name": "stdout",
     "output_type": "stream",
     "text": [
      "Enter your name: miraj\n",
      "Enter your age: 345\n",
      "miraj 345\n"
     ]
    }
   ],
   "source": [
    "\n",
    "#protected\n",
    "\n",
    "class Info:\n",
    "\n",
    "    def __init__(self):\n",
    "        self._name=input(\"Enter your name: \") #initilizayin garda _ rakhda protected hunxa\n",
    "        self._age=int(input(\"Enter your age: \"))\n",
    "\n",
    "obj=Info()\n",
    "print(obj._name,obj._age)#getting public members #protected vaye pani bihara bata access vai ra xa controversy\n"
   ]
  },
  {
   "cell_type": "code",
   "execution_count": 4,
   "id": "6ad4ce82",
   "metadata": {},
   "outputs": [
    {
     "name": "stdout",
     "output_type": "stream",
     "text": [
      "Enter your name: miraj\n",
      "Enter your age: 2\n"
     ]
    }
   ],
   "source": [
    "\n",
    "#private\n",
    "\n",
    "class Info:\n",
    "\n",
    "    def __init__(self):\n",
    "        self.__name=input(\"Enter your name: \") #initilizayin garda __ rakhda private hunxa\n",
    "        self.__age=int(input(\"Enter your age: \"))\n",
    "\n",
    "obj=Info()\n",
    "#print(obj.__name,obj.__age)#getting private members  would give error\n"
   ]
  },
  {
   "cell_type": "code",
   "execution_count": 5,
   "id": "d8a9a742",
   "metadata": {},
   "outputs": [
    {
     "name": "stdout",
     "output_type": "stream",
     "text": [
      "enter your name: miraj\n",
      "enter your address: koteshwor\n",
      "enter your age: 20\n",
      "(parent class)the name is: miraj\n",
      "(parent class) the address is: koteshwor\n",
      "(parent class) the age is: 20\n"
     ]
    }
   ],
   "source": [
    "\n",
    "class Age:\n",
    "    def __init__(self,age):\n",
    "        self._age=age\n",
    "\n",
    "\n",
    "class Address:\n",
    "    \n",
    "    def __init__(self,add):\n",
    "        self.__add=add\n",
    "        \n",
    "        \n",
    "    def print_parent(self):\n",
    "        print(\"(parent class)the name is:\", self.name)\n",
    "        print(\"(parent class) the address is:\", self.__add)# add is private which is member of Address so it can be access \n",
    "                                                           #inside Address class only\n",
    "            \n",
    "        print(\"(parent class) the age is:\", self._age)# accessing protected member\n",
    "        \n",
    "class Info(Address,Age): \n",
    "    \n",
    "    def __init__(self,name,age,add):\n",
    "        self.name= name  \n",
    "        Address.__init__(self,add) \n",
    "        Age.__init__(self,age)\n",
    "\n",
    "   \n",
    "name=input(\"enter your name: \")\n",
    "add=input(\"enter your address: \") \n",
    "age=int(input(\"enter your age: \")) \n",
    "\n",
    "obj_child = Info(name,age,add)\n",
    "\n",
    "obj_child.print_parent() "
   ]
  },
  {
   "cell_type": "code",
   "execution_count": 11,
   "id": "32433543",
   "metadata": {},
   "outputs": [
    {
     "name": "stdout",
     "output_type": "stream",
     "text": [
      "enter your name: m\n",
      "enter your address: d\n",
      "enter your age: 4\n",
      "(parent class)the name is: m\n",
      "(parent class) the address is: d\n"
     ]
    }
   ],
   "source": [
    "#making age as protected and trying to access inside into Address class\n",
    "class Age:\n",
    "    def __init__(self,age):\n",
    "        self.__age=age\n",
    "\n",
    "\n",
    "class Address:\n",
    "    \n",
    "    def __init__(self,add):\n",
    "        self.add=add\n",
    "        \n",
    "        \n",
    "    def print_parent(self):\n",
    "        print(\"(parent class)the name is:\", self.name)\n",
    "        print(\"(parent class) the address is:\", self.add)\n",
    "                                                           \n",
    "       # print(\"(parent class) the age is:\", self.__age)# age is private which is member of Age class so it can be access inside\n",
    "                                                        #Age class only so it throws error since we are accessing it in Address\n",
    "        \n",
    "class Info(Address,Age): \n",
    "    \n",
    "    def __init__(self,name,age,add):\n",
    "        self.name= name  \n",
    "        Address.__init__(self,add) \n",
    "        Age.__init__(self,age)\n",
    "\n",
    "   \n",
    "name=input(\"enter your name: \")\n",
    "add=input(\"enter your address: \") \n",
    "age=int(input(\"enter your age: \")) \n",
    "\n",
    "obj_child = Info(name,age,add)\n",
    "\n",
    "\n",
    "obj_child.print_parent() "
   ]
  },
  {
   "cell_type": "code",
   "execution_count": 12,
   "id": "e0ade182",
   "metadata": {},
   "outputs": [
    {
     "name": "stdout",
     "output_type": "stream",
     "text": [
      "enter your name: miraj\n",
      "enter your address: kalani\n",
      "enter your age: 3\n",
      "(parent class)the name is: miraj\n",
      "(parent class) the address is: kalani\n",
      "(parent class) the age is: 3\n"
     ]
    }
   ],
   "source": [
    "# accessing the private through getters \n",
    "class Age:\n",
    "    def __init__(self,age):\n",
    "        self.__age=age\n",
    "     \n",
    "    #getters\n",
    "    def getAge(self):\n",
    "        return self.__age\n",
    "\n",
    "\n",
    "class Address:\n",
    "    \n",
    "    def __init__(self,add):\n",
    "        self.add=add\n",
    "        \n",
    "        \n",
    "    def print_parent(self):\n",
    "        print(\"(parent class)the name is:\", self.name)\n",
    "        print(\"(parent class) the address is:\", self.add)\n",
    "                                                           \n",
    "        print(\"(parent class) the age is:\", self.getAge())# age is private which is member of Age class so it can be \n",
    "                                                        # access inside Age class only so  accesing it by getter method\n",
    "        \n",
    "class Info(Address,Age): \n",
    "    \n",
    "    def __init__(self,name,age,add):\n",
    "        self.name= name  \n",
    "        Address.__init__(self,add) \n",
    "        Age.__init__(self,age)\n",
    "\n",
    "   \n",
    "name=input(\"enter your name: \")\n",
    "add=input(\"enter your address: \") \n",
    "age=int(input(\"enter your age: \")) \n",
    "\n",
    "obj_child = Info(name,age,add)\n",
    "\n",
    "\n",
    "obj_child.print_parent() "
   ]
  },
  {
   "cell_type": "code",
   "execution_count": 17,
   "id": "f5f19aec",
   "metadata": {},
   "outputs": [
    {
     "name": "stdout",
     "output_type": "stream",
     "text": [
      "miraj\n",
      "<class '__main__.Age'>\n",
      "Hello my name is  miraj\n",
      "Hello my name is miraj\n"
     ]
    }
   ],
   "source": [
    "\n",
    "class Age:\n",
    "    def __init__(self):\n",
    "        self.name=\"miraj\"\n",
    "        \n",
    "    def __str__(self): # returns only string\n",
    "        return self.name\n",
    "        \n",
    "obj=Age()\n",
    "\n",
    "print(obj)\n",
    "print(type(obj))\n",
    "print(f\"Hello my name is  {obj}\")\n",
    "#print(f\"Hello my name is \"+obj) # we cant concat since it is a object\n",
    "print(f\"Hello my name is \"+str(obj))# we can convert it into string then concat\n",
    "\n"
   ]
  },
  {
   "cell_type": "markdown",
   "id": "eb2e5f81",
   "metadata": {},
   "source": [
    "# polymorphism"
   ]
  },
  {
   "cell_type": "code",
   "execution_count": 3,
   "id": "9f5ebc60",
   "metadata": {},
   "outputs": [
    {
     "name": "stdout",
     "output_type": "stream",
     "text": [
      "parrot can fly\n",
      "parrot can swim\n",
      "penguin cant fly\n",
      "penguin cant swim\n"
     ]
    }
   ],
   "source": [
    "class Parrot:\n",
    "    \n",
    "    def fly(self):\n",
    "        print(\"parrot can fly\")\n",
    "        \n",
    "    def swim(self):\n",
    "        print(\"parrot can swim\")\n",
    "        \n",
    "class Penguin:\n",
    "    \n",
    "    def fly(self):\n",
    "        print(\"penguin cant fly\")\n",
    "        \n",
    "    def swim(self):\n",
    "        print(\"penguin cant swim\")\n",
    "        \n",
    "#common interface\n",
    "def flying_test(bird):\n",
    "    bird.fly()\n",
    "    bird.swim()\n",
    "\n",
    "#instantiate objects\n",
    "blu=Parrot()\n",
    "peggy=Penguin()\n",
    "\n",
    "#passing the object\n",
    "flying_test(blu)\n",
    "flying_test(peggy)\n",
    "        "
   ]
  },
  {
   "cell_type": "code",
   "execution_count": null,
   "id": "2999af91",
   "metadata": {},
   "outputs": [],
   "source": []
  }
 ],
 "metadata": {
  "kernelspec": {
   "display_name": "Python 3 (ipykernel)",
   "language": "python",
   "name": "python3"
  },
  "language_info": {
   "codemirror_mode": {
    "name": "ipython",
    "version": 3
   },
   "file_extension": ".py",
   "mimetype": "text/x-python",
   "name": "python",
   "nbconvert_exporter": "python",
   "pygments_lexer": "ipython3",
   "version": "3.10.9"
  }
 },
 "nbformat": 4,
 "nbformat_minor": 5
}
