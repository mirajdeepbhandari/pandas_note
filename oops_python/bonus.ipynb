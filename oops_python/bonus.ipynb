{
 "cells": [
  {
   "cell_type": "markdown",
   "id": "ed481eb2",
   "metadata": {},
   "source": [
    "# Package datetime"
   ]
  },
  {
   "cell_type": "code",
   "execution_count": 1,
   "id": "2d41032f",
   "metadata": {},
   "outputs": [
    {
     "name": "stdout",
     "output_type": "stream",
     "text": [
      "2023-06-19 08:37:58.320159\n"
     ]
    }
   ],
   "source": [
    "import datetime as dt\n",
    "\n",
    "x=dt.datetime.now()\n",
    "print(x)"
   ]
  },
  {
   "cell_type": "code",
   "execution_count": 2,
   "id": "e3ad8760",
   "metadata": {},
   "outputs": [
    {
     "name": "stdout",
     "output_type": "stream",
     "text": [
      "2023\n",
      "6\n",
      "19\n",
      "8\n"
     ]
    }
   ],
   "source": [
    "x=dt.datetime.now()\n",
    "print(x.year)\n",
    "print(x.month)\n",
    "print(x.day)\n",
    "print(x.hour)"
   ]
  },
  {
   "cell_type": "code",
   "execution_count": 3,
   "id": "32dd1245",
   "metadata": {},
   "outputs": [
    {
     "name": "stdout",
     "output_type": "stream",
     "text": [
      "Mon Jun 19 08:37:58 2023\n"
     ]
    }
   ],
   "source": [
    "print(x.strftime(\"%c\")) "
   ]
  },
  {
   "cell_type": "code",
   "execution_count": 4,
   "id": "285f6bf2",
   "metadata": {},
   "outputs": [
    {
     "name": "stdout",
     "output_type": "stream",
     "text": [
      "08:37:58\n"
     ]
    }
   ],
   "source": [
    "print(x.strftime(\"%X\")) "
   ]
  },
  {
   "cell_type": "code",
   "execution_count": 6,
   "id": "d6994852",
   "metadata": {},
   "outputs": [
    {
     "name": "stdout",
     "output_type": "stream",
     "text": [
      "Enter OTP: 4545\n",
      "you took 7 seconds, your time is out\n"
     ]
    }
   ],
   "source": [
    "import datetime as dt\n",
    "\n",
    "x = dt.datetime.now().second\n",
    "name = input(\"Enter OTP: \")\n",
    "y = dt.datetime.now().second\n",
    "\n",
    "if (y - x) < 5:\n",
    "    print(\"Please collect your cash\")\n",
    "    \n",
    "else:\n",
    "    print(f\"you took {y - x} seconds, your time is out\" )\n",
    "    \n"
   ]
  },
  {
   "cell_type": "markdown",
   "id": "debd3812",
   "metadata": {},
   "source": [
    "# Package os"
   ]
  },
  {
   "cell_type": "code",
   "execution_count": 8,
   "id": "9545595c",
   "metadata": {},
   "outputs": [
    {
     "data": {
      "text/plain": [
       "['.ipynb_checkpoints', 'bonus.ipynb', 'opps_.ipynb']"
      ]
     },
     "execution_count": 8,
     "metadata": {},
     "output_type": "execute_result"
    }
   ],
   "source": [
    "import os\n",
    "\n",
    "os.listdir() #  show the folders/files of current directory"
   ]
  },
  {
   "cell_type": "code",
   "execution_count": 11,
   "id": "1354be92",
   "metadata": {},
   "outputs": [],
   "source": [
    "# os.mkdir(path) syntax\n",
    "\n",
    "#os.mkdir('newFolder') # to create new folder"
   ]
  },
  {
   "cell_type": "code",
   "execution_count": 12,
   "id": "e12303b1",
   "metadata": {},
   "outputs": [],
   "source": [
    "os.chdir('newFolder') #to enter inside folder"
   ]
  },
  {
   "cell_type": "code",
   "execution_count": 16,
   "id": "2122d144",
   "metadata": {},
   "outputs": [
    {
     "data": {
      "text/plain": [
       "'D:\\\\l\\\\newFolder'"
      ]
     },
     "execution_count": 16,
     "metadata": {},
     "output_type": "execute_result"
    }
   ],
   "source": [
    "pwd  # to see where we are"
   ]
  },
  {
   "cell_type": "code",
   "execution_count": 22,
   "id": "c5c80adc",
   "metadata": {},
   "outputs": [
    {
     "name": "stdout",
     "output_type": "stream",
     "text": [
      "D:\\l\n"
     ]
    }
   ],
   "source": [
    "cd .. # to come out of newFolder\n"
   ]
  },
  {
   "cell_type": "code",
   "execution_count": 25,
   "id": "4a4c2d4b",
   "metadata": {},
   "outputs": [],
   "source": [
    " #os.rename('newFolder','New_Folder') to rename exising folder\n"
   ]
  },
  {
   "cell_type": "code",
   "execution_count": 27,
   "id": "1ce2d259",
   "metadata": {},
   "outputs": [],
   "source": [
    "os.rmdir('New_Folder') #to delete the folder"
   ]
  },
  {
   "cell_type": "markdown",
   "id": "f59c6984",
   "metadata": {},
   "source": [
    "# comprehensive  of list and dictionary"
   ]
  },
  {
   "cell_type": "code",
   "execution_count": 28,
   "id": "1362a2ca",
   "metadata": {},
   "outputs": [
    {
     "data": {
      "text/plain": [
       "[0, 1, 2, 3, 4, 5, 6, 7, 8, 9]"
      ]
     },
     "execution_count": 28,
     "metadata": {},
     "output_type": "execute_result"
    }
   ],
   "source": [
    "l=[i for i in range(10)]\n",
    "l"
   ]
  },
  {
   "cell_type": "code",
   "execution_count": 39,
   "id": "ba1cc22f",
   "metadata": {},
   "outputs": [
    {
     "data": {
      "text/plain": [
       "[(0, 0), (0, 1), (1, 0), (1, 1)]"
      ]
     },
     "execution_count": 39,
     "metadata": {},
     "output_type": "execute_result"
    }
   ],
   "source": [
    "l = [(i, j) for i in range(2) for j in range(2)]\n",
    "l"
   ]
  },
  {
   "cell_type": "code",
   "execution_count": 32,
   "id": "be93decc",
   "metadata": {},
   "outputs": [
    {
     "name": "stdout",
     "output_type": "stream",
     "text": [
      "Enter values = miraj\n",
      "Enter values = kaka\n",
      "Enter values = sdds\n",
      "Enter values = fdf\n",
      "Enter values = dfdg\n"
     ]
    },
    {
     "data": {
      "text/plain": [
       "['miraj', 'kaka', 'sdds', 'fdf', 'dfdg']"
      ]
     },
     "execution_count": 32,
     "metadata": {},
     "output_type": "execute_result"
    }
   ],
   "source": [
    "l=[input(\"Enter values = \") for i in range(5)]\n",
    "l"
   ]
  },
  {
   "cell_type": "code",
   "execution_count": 35,
   "id": "ca4aed82",
   "metadata": {},
   "outputs": [
    {
     "data": {
      "text/plain": [
       "['apple', 'banana']"
      ]
     },
     "execution_count": 35,
     "metadata": {},
     "output_type": "execute_result"
    }
   ],
   "source": [
    "l=['Apple','Banana']\n",
    "data=[i.lower() for i in l]\n",
    "data"
   ]
  },
  {
   "cell_type": "code",
   "execution_count": 40,
   "id": "e5471aec",
   "metadata": {},
   "outputs": [],
   "source": [
    "# dictionary"
   ]
  },
  {
   "cell_type": "code",
   "execution_count": 42,
   "id": "1febf651",
   "metadata": {},
   "outputs": [
    {
     "data": {
      "text/plain": [
       "{'Apple': 'apple', 'Banana': 'banana'}"
      ]
     },
     "execution_count": 42,
     "metadata": {},
     "output_type": "execute_result"
    }
   ],
   "source": [
    "l=['Apple','Banana']\n",
    "d = {i:i.lower() for i in l}\n",
    "d"
   ]
  },
  {
   "cell_type": "code",
   "execution_count": 45,
   "id": "89c0879d",
   "metadata": {},
   "outputs": [
    {
     "data": {
      "text/plain": [
       "['apple', 'banana']"
      ]
     },
     "execution_count": 45,
     "metadata": {},
     "output_type": "execute_result"
    }
   ],
   "source": [
    "list(d.values())"
   ]
  },
  {
   "cell_type": "code",
   "execution_count": 47,
   "id": "c4225c17",
   "metadata": {},
   "outputs": [
    {
     "data": {
      "text/plain": [
       "[('Apple', 'apple'), ('Banana', 'banana')]"
      ]
     },
     "execution_count": 47,
     "metadata": {},
     "output_type": "execute_result"
    }
   ],
   "source": [
    "list(d.items())"
   ]
  },
  {
   "cell_type": "code",
   "execution_count": 50,
   "id": "0d0e3f57",
   "metadata": {},
   "outputs": [
    {
     "name": "stdout",
     "output_type": "stream",
     "text": [
      "Enter name= dfd\n",
      "ENTER phone=343\n",
      "Enter name= dfdf\n",
      "ENTER phone=3445\n",
      "Enter name= dfd\n",
      "ENTER phone=3434\n",
      "Enter name= dfdf\n",
      "ENTER phone=3434\n",
      "Enter name= fdf\n",
      "ENTER phone=3434\n"
     ]
    },
    {
     "data": {
      "text/plain": [
       "{'dfd': '3434', 'dfdf': '3434', 'fdf': '3434'}"
      ]
     },
     "execution_count": 50,
     "metadata": {},
     "output_type": "execute_result"
    }
   ],
   "source": [
    "#creating dict by comprehensive way\n",
    "d = {input(\"Enter name= \"):input(\"ENTER phone=\") for i in range(5)}\n",
    "d"
   ]
  },
  {
   "cell_type": "code",
   "execution_count": null,
   "id": "50ebd0ca",
   "metadata": {},
   "outputs": [],
   "source": []
  }
 ],
 "metadata": {
  "kernelspec": {
   "display_name": "Python 3 (ipykernel)",
   "language": "python",
   "name": "python3"
  },
  "language_info": {
   "codemirror_mode": {
    "name": "ipython",
    "version": 3
   },
   "file_extension": ".py",
   "mimetype": "text/x-python",
   "name": "python",
   "nbconvert_exporter": "python",
   "pygments_lexer": "ipython3",
   "version": "3.10.9"
  }
 },
 "nbformat": 4,
 "nbformat_minor": 5
}
